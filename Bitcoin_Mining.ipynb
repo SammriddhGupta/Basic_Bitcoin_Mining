{
  "nbformat": 4,
  "nbformat_minor": 0,
  "metadata": {
    "colab": {
      "name": "Bitcoin_Mining.ipynb",
      "provenance": [],
      "authorship_tag": "ABX9TyNkW6akm9SEKfHJWn+YtC+R",
      "include_colab_link": true
    },
    "kernelspec": {
      "name": "python3",
      "display_name": "Python 3"
    },
    "language_info": {
      "name": "python"
    }
  },
  "cells": [
    {
      "cell_type": "markdown",
      "metadata": {
        "id": "view-in-github",
        "colab_type": "text"
      },
      "source": [
        "<a href=\"https://colab.research.google.com/github/SammriddhGupta/Basic_Bitcoin_Mining/blob/main/Bitcoin_Mining.ipynb\" target=\"_parent\"><img src=\"https://colab.research.google.com/assets/colab-badge.svg\" alt=\"Open In Colab\"/></a>"
      ]
    },
    {
      "cell_type": "markdown",
      "source": [
        "### Bitcoin mining\n"
      ],
      "metadata": {
        "id": "g2kG_0msOPrs"
      }
    },
    {
      "cell_type": "code",
      "source": [
        "from hashlib import sha256\n",
        "MAX_NONCE = 100000000000\n",
        "\n",
        "def SHA256(text):\n",
        "    return sha256(text.encode(\"ascii\")).hexdigest()\n",
        "\n",
        "def mine(block_number, transactions, previous_hash, prefix_zeros):\n",
        "    prefix_str = '0'*prefix_zeros\n",
        "    for nonce in range(MAX_NONCE):\n",
        "        text = str(block_number) + transactions + previous_hash + str(nonce)\n",
        "        new_hash = SHA256(text)\n",
        "        if new_hash.startswith(prefix_str):\n",
        "            print(f\"Yay! Successfully mined bitcoins with nonce value:{nonce}\")\n",
        "            return new_hash\n",
        "\n",
        "    raise BaseException(f\"Couldn't find correct has after trying {MAX_NONCE} times\")\n",
        "\n",
        "if __name__=='__main__':\n",
        "    transactions='''\n",
        "    Sammriddh->Luffy->40,\n",
        "    Zoro->Sanji->85\n",
        "    '''\n",
        "    difficulty=4\n",
        "    import time\n",
        "    start = time.time()\n",
        "    print(\"start mining\")\n",
        "    new_hash = mine(5,transactions,'0000000xa036944e29568d0cff17edbe038f81208fecf9a66be9a2b8321c6ec7', difficulty)\n",
        "    total_time = str((time.time() - start))\n",
        "    print(f\"end mining. Mining took: {total_time} seconds\")\n",
        "    print(new_hash)"
      ],
      "metadata": {
        "id": "pYMBl5cDdnhq",
        "colab": {
          "base_uri": "https://localhost:8080/"
        },
        "outputId": "6e47d6ee-73b5-42e5-9e1e-39804c9ced4a"
      },
      "execution_count": null,
      "outputs": [
        {
          "output_type": "stream",
          "name": "stdout",
          "text": [
            "start mining\n",
            "Yay! Successfully mined bitcoins with nonce value:28006\n",
            "end mining. Mining took: 0.11021614074707031 seconds\n",
            "000011cafd11f7e4d7f5423e33625e764c06ad338ca002533b8703945937afdc\n"
          ]
        }
      ]
    },
    {
      "cell_type": "code",
      "source": [
        ""
      ],
      "metadata": {
        "id": "0K2EDH6OXyVt"
      },
      "execution_count": null,
      "outputs": []
    },
    {
      "cell_type": "code",
      "source": [
        "from hashlib import sha256\n",
        "MAX_NONCE = 100000000000\n",
        "\n",
        "def SHA256(text):\n",
        "    return sha256(text.encode(\"ascii\")).hexdigest()\n",
        "\n",
        "def mine(block_number, transactions, previous_hash, prefix_zeros):\n",
        "    prefix_str = '0'*prefix_zeros\n",
        "    for nonce in range(MAX_NONCE):\n",
        "        text = str(block_number) + transactions + previous_hash + str(nonce)\n",
        "        new_hash = SHA256(text)\n",
        "        if new_hash.startswith(prefix_str):\n",
        "            print(f\"Yay! Successfully mined bitcoins with nonce value:{nonce}\")\n",
        "            return new_hash\n",
        "\n",
        "    raise BaseException(f\"Couldn't find correct has after trying {MAX_NONCE} times\")\n",
        "\n",
        "if __name__=='__main__':\n",
        "    transactions='''\n",
        "    Sammriddh->Luffy->40,\n",
        "    Zoro->Sanji->85\n",
        "    '''\n",
        "    difficulty=5\n",
        "    import time\n",
        "    start = time.time()\n",
        "    print(\"start mining\")\n",
        "    new_hash = mine(5,transactions,'0000000xa036944e29568d0cff17edbe038f81208fecf9a66be9a2b8321c6ec7', difficulty)\n",
        "    total_time = str((time.time() - start))\n",
        "    print(f\"end mining. Mining took: {total_time} seconds\")\n",
        "    print(new_hash)"
      ],
      "metadata": {
        "colab": {
          "base_uri": "https://localhost:8080/"
        },
        "id": "X6khc-bTXyX2",
        "outputId": "b6eefc9a-8983-4238-d47b-943a05734c8a"
      },
      "execution_count": null,
      "outputs": [
        {
          "output_type": "stream",
          "name": "stdout",
          "text": [
            "start mining\n",
            "Yay! Successfully mined bitcoins with nonce value:733676\n",
            "end mining. Mining took: 1.5720374584197998 seconds\n",
            "000008c5bb6a78e860964451f752f6690b56667fd0e75f625044a4bc9787bfc2\n"
          ]
        }
      ]
    },
    {
      "cell_type": "code",
      "source": [
        ""
      ],
      "metadata": {
        "id": "kG0j4B2vXybu"
      },
      "execution_count": null,
      "outputs": []
    },
    {
      "cell_type": "code",
      "source": [
        "from hashlib import sha256\n",
        "MAX_NONCE = 100000000000\n",
        "\n",
        "def SHA256(text):\n",
        "    return sha256(text.encode(\"ascii\")).hexdigest()\n",
        "\n",
        "def mine(block_number, transactions, previous_hash, prefix_zeros):\n",
        "    prefix_str = '0'*prefix_zeros\n",
        "    for nonce in range(MAX_NONCE):\n",
        "        text = str(block_number) + transactions + previous_hash + str(nonce)\n",
        "        new_hash = SHA256(text)\n",
        "        if new_hash.startswith(prefix_str):\n",
        "            print(f\"Yay! Successfully mined bitcoins with nonce value:{nonce}\")\n",
        "            return new_hash\n",
        "\n",
        "    raise BaseException(f\"Couldn't find correct has after trying {MAX_NONCE} times\")\n",
        "\n",
        "if __name__=='__main__':\n",
        "    transactions='''\n",
        "    Sammriddh->Luffy->40,\n",
        "    Zoro->Sanji->85\n",
        "    '''\n",
        "    difficulty=6\n",
        "    import time\n",
        "    start = time.time()\n",
        "    print(\"start mining\")\n",
        "    new_hash = mine(5,transactions,'0000000xa036944e29568d0cff17edbe038f81208fecf9a66be9a2b8321c6ec7', difficulty)\n",
        "    total_time = str((time.time() - start))\n",
        "    print(f\"end mining. Mining took: {total_time} seconds\")\n",
        "    print(new_hash)"
      ],
      "metadata": {
        "id": "xA2ltc7aX4TO",
        "outputId": "60af7532-bf8a-441b-cc31-40711c63baa1",
        "colab": {
          "base_uri": "https://localhost:8080/"
        }
      },
      "execution_count": null,
      "outputs": [
        {
          "output_type": "stream",
          "name": "stdout",
          "text": [
            "start mining\n",
            "Yay! Successfully mined bitcoins with nonce value:8162880\n",
            "end mining. Mining took: 17.734513759613037 seconds\n",
            "000000792312e7ea0ef7c979076952adb995bf137d1ca57e3e0dc6d0e61a98ce\n"
          ]
        }
      ]
    },
    {
      "cell_type": "code",
      "source": [
        ""
      ],
      "metadata": {
        "id": "NnkGPva9X4Wt"
      },
      "execution_count": null,
      "outputs": []
    },
    {
      "cell_type": "code",
      "source": [
        ""
      ],
      "metadata": {
        "id": "mbXXayJfXnvs"
      },
      "execution_count": null,
      "outputs": []
    }
  ]
}